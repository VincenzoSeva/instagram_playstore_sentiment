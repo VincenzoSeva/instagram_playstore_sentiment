{
  "nbformat": 4,
  "nbformat_minor": 0,
  "metadata": {
    "colab": {
      "name": "Scrape_PlayStore.ipynb",
      "provenance": [],
      "collapsed_sections": [
        "Od7UdoVnLdWd",
        "m9EK2lucMdw0",
        "oNBoemHSM_OT",
        "y5Cds1v8NUy3",
        "j8jsuz1YN83E",
        "TlN9KywdOKYA",
        "PVh3RAkGOcZT",
        "5WczUNQbOvVP",
        "Plql7mHsO7Mj",
        "-LpZbAO0PvgY"
      ]
    },
    "kernelspec": {
      "name": "python3",
      "display_name": "Python 3"
    },
    "language_info": {
      "name": "python"
    }
  },
  "cells": [
    {
      "cell_type": "code",
      "metadata": {
        "id": "LldXZPhFL4ZM",
        "colab": {
          "base_uri": "https://localhost:8080/"
        },
        "outputId": "b568695a-ec11-4614-848d-af89db7e9007"
      },
      "source": [
        "!pip install google-play-scraper"
      ],
      "execution_count": null,
      "outputs": [
        {
          "output_type": "stream",
          "name": "stdout",
          "text": [
            "Looking in indexes: https://pypi.org/simple, https://us-python.pkg.dev/colab-wheels/public/simple/\n",
            "Collecting google-play-scraper\n",
            "  Downloading google_play_scraper-1.2.2-py3-none-any.whl (28 kB)\n",
            "Installing collected packages: google-play-scraper\n",
            "Successfully installed google-play-scraper-1.2.2\n"
          ]
        }
      ]
    },
    {
      "cell_type": "code",
      "metadata": {
        "id": "EXE3fFLJMEJQ"
      },
      "source": [
        "from google_play_scraper import Sort, reviews_all, reviews, app\n",
        "import pandas as pd\n",
        "import numpy as np"
      ],
      "execution_count": null,
      "outputs": []
    },
    {
      "cell_type": "code",
      "metadata": {
        "id": "Cf6nMwaONfL1"
      },
      "source": [
        "result, continuation_token = reviews(\n",
        "    'com.instagram.android', \n",
        "    lang='it',                \n",
        "    country='it',             \n",
        "    sort=Sort.MOST_RELEVANT,  \n",
        "    count=50000,               \n",
        "    filter_score_with=None    \n",
        ")"
      ],
      "execution_count": null,
      "outputs": []
    },
    {
      "cell_type": "code",
      "metadata": {
        "id": "mDg5JNIFOFrm"
      },
      "source": [
        "scrapeddata = pd.DataFrame(np.array(result),columns=['review'])\n",
        "\n",
        "scrapeddata = scrapeddata.join(pd.DataFrame(scrapeddata.pop('review').tolist()))\n",
        "\n"
      ],
      "execution_count": null,
      "outputs": []
    },
    {
      "cell_type": "code",
      "metadata": {
        "id": "7Soe-xswOx7_"
      },
      "source": [
        "#filtering and sorting\n",
        "scrapeddata[['content','score','at']].head() "
      ],
      "execution_count": null,
      "outputs": []
    },
    {
      "cell_type": "code",
      "metadata": {
        "id": "TCXi8cz0PKFO"
      },
      "source": [
        "scrappeddata1 = scrapeddata[['content','score','at']]\n",
        "sorteddata = scrappeddata1.sort_values(by='at', ascending=False)\n",
        "sorteddata.head()"
      ],
      "execution_count": null,
      "outputs": []
    },
    {
      "cell_type": "code",
      "metadata": {
        "id": "M8s665UhOrdM"
      },
      "source": [
        "#saving csv\n",
        "sorteddata.to_csv(\"playstorescrapping.csv\", index = False)  #Save the file as CSV"
      ],
      "execution_count": null,
      "outputs": []
    }
  ]
}